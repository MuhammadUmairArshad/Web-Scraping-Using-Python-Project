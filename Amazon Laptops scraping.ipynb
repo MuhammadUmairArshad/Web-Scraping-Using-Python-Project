{
 "cells": [
  {
   "cell_type": "code",
   "execution_count": 1,
   "id": "9ef28c7b",
   "metadata": {},
   "outputs": [],
   "source": [
    "from bs4 import BeautifulSoup\n",
    "import requests\n",
    "import csv\n",
    "\n",
    "headers = {'User-Agent':'Mozilla/5.0 (Windows NT 10.0; Win64; x64) AppleWebKit/537.36 (KHTML, like Gecko) Chrome/93.0.4577.63 Safari/537.36'}\n",
    "\n",
    "source = requests.get('https://www.amazon.in/s?k=Laptops&ref=nb_sb_noss_2', headers = headers).text\n",
    "soup = BeautifulSoup(source, 'lxml')\n",
    "\n",
    "# print(soup.prettify())\n",
    "\n",
    "Names = []\n",
    "Prices = []\n",
    "\n",
    "# for loop\n",
    "\n",
    "for i in soup.find_all('a', class_='a-link-normal a-text-normal'):\n",
    "    string = i.text\n",
    "    Names.append( string.strip() )\n",
    "\n",
    "for i in soup.find_all('span', class_='a-price-whole'):\n",
    "    Prices.append(i.text)\n",
    "\n",
    "\n",
    "file_name = 'Laptops.csv'\n",
    "\n",
    "with open(file_name, 'w') as file:\n",
    "    writer = csv.writer(file)\n",
    "    writer.writerow(['Sr.No', 'Laptop Name', 'Prices'])\n",
    "\n",
    "    for i in range(len(Names)):\n",
    "        writer.writerow([i, Names[i], Prices[i]])\n",
    "        "
   ]
  },
  {
   "cell_type": "code",
   "execution_count": null,
   "id": "c43da1ee",
   "metadata": {},
   "outputs": [],
   "source": []
  }
 ],
 "metadata": {
  "kernelspec": {
   "display_name": "Python 3",
   "language": "python",
   "name": "python3"
  },
  "language_info": {
   "codemirror_mode": {
    "name": "ipython",
    "version": 3
   },
   "file_extension": ".py",
   "mimetype": "text/x-python",
   "name": "python",
   "nbconvert_exporter": "python",
   "pygments_lexer": "ipython3",
   "version": "3.8.8"
  }
 },
 "nbformat": 4,
 "nbformat_minor": 5
}
